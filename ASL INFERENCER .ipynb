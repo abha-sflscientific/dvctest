{
 "cells": [
  {
   "cell_type": "code",
   "execution_count": 1,
   "id": "reasonable-survivor",
   "metadata": {},
   "outputs": [],
   "source": [
    "import tensorflow.keras as keras\n",
    "import pandas as pd"
   ]
  },
  {
   "cell_type": "code",
   "execution_count": 2,
   "id": "heavy-potential",
   "metadata": {},
   "outputs": [],
   "source": [
    "##load and prepare data##\n",
    "#load data from CSV files located in /data/asl_data/\n",
    "train_df = pd.read_csv(\"data/asl_data/sign_mnist_train.csv\")\n",
    "valid_df = pd.read_csv(\"data/asl_data/sign_mnist_valid.csv\")\n",
    "\n",
    "#separate out target values\n",
    "y_train = train_df['label']\n",
    "y_valid = valid_df['label']\n",
    "del train_df['label']\n",
    "del valid_df['label']\n",
    "\n",
    "#separate out image vectors \n",
    "x_train = train_df.values\n",
    "x_valid = valid_df.values\n",
    "\n",
    "#turn our scalar targets into binary, using 24 classes\n",
    "num_classes = 24\n",
    "y_train = keras.utils.to_categorical(y_train, num_classes)\n",
    "y_valid = keras.utils.to_categorical(y_valid, num_classes)\n",
    "\n",
    "#normalize image data\n",
    "x_train = x_train / 255\n",
    "x_valid = x_valid / 255"
   ]
  },
  {
   "cell_type": "code",
   "execution_count": 5,
   "id": "naval-sunglasses",
   "metadata": {},
   "outputs": [],
   "source": [
    "##Reshape data for Convolutional Neural Network##\n",
    "#reshape from 784 single vector to (3D 28,28,1) with a single color channel\n",
    "x_train = x_train.reshape(-1,28,28,1)\n",
    "x_valid = x_valid.reshape(-1,28,28,1)"
   ]
  },
  {
   "cell_type": "code",
   "execution_count": 49,
   "id": "robust-keyboard",
   "metadata": {},
   "outputs": [],
   "source": [
    "##Create layers for Convolutional model##\n",
    "from tensorflow.keras.models import Sequential\n",
    "from tensorflow.keras.layers import (\n",
    "    Dense,\n",
    "    Conv2D,\n",
    "    MaxPool2D,\n",
    "    Flatten,\n",
    "    Dropout,\n",
    "    BatchNormalization,\n",
    ")\n",
    "\n",
    "model = Sequential()\n",
    "#Convolutional layer, filter/kernel=75, window of 3x3, input shape is image of 28,28 with color channel of 1\n",
    "model.add(Conv2D(75, (3,3), strides=1, padding=\"same\", activation=\"relu\", input_shape=(28,28,1)))\n",
    "model.add(BatchNormalization())\n",
    "#MaxPool Highlight most present feature in patch\n",
    "model.add(MaxPool2D((2,2), strides=2, padding=\"same\"))\n",
    "model.add(Conv2D(50, (3,3), strides=1, padding=\"same\", activation=\"relu\"))\n",
    "#Dropout to prevent overfitting\n",
    "model.add(Dropout(0.2))\n",
    "model.add(BatchNormalization())\n",
    "model.add(MaxPool2D((2,2), strides=2, padding=\"same\"))\n",
    "model.add(Conv2D(25, (3,3), strides=1, padding=\"same\", activation=\"relu\"))\n",
    "model.add(BatchNormalization())\n",
    "model.add(MaxPool2D((2,2), strides=2, padding=\"same\"))\n",
    "#Flatten to reduce 3D structure to a single dimension appropriate to run through Dense Layers\n",
    "model.add(Flatten())\n",
    "model.add(Dense(units=512, activation='relu'))\n",
    "model.add(Dropout(.3))\n",
    "model.add(Dense(units=num_classes, activation=\"softmax\"))"
   ]
  },
  {
   "cell_type": "code",
   "execution_count": 18,
   "id": "protected-telling",
   "metadata": {},
   "outputs": [
    {
     "name": "stdout",
     "output_type": "stream",
     "text": [
      "Model: \"sequential_2\"\n",
      "_________________________________________________________________\n",
      "Layer (type)                 Output Shape              Param #   \n",
      "=================================================================\n",
      "conv2d_4 (Conv2D)            (None, 28, 28, 75)        750       \n",
      "_________________________________________________________________\n",
      "batch_normalization_4 (Batch (None, 28, 28, 75)        300       \n",
      "_________________________________________________________________\n",
      "max_pooling2d_3 (MaxPooling2 (None, 14, 14, 75)        0         \n",
      "_________________________________________________________________\n",
      "conv2d_5 (Conv2D)            (None, 14, 14, 50)        33800     \n",
      "_________________________________________________________________\n",
      "dropout_2 (Dropout)          (None, 14, 14, 50)        0         \n",
      "_________________________________________________________________\n",
      "batch_normalization_5 (Batch (None, 14, 14, 50)        200       \n",
      "_________________________________________________________________\n",
      "max_pooling2d_4 (MaxPooling2 (None, 7, 7, 50)          0         \n",
      "_________________________________________________________________\n",
      "conv2d_6 (Conv2D)            (None, 7, 7, 25)          11275     \n",
      "_________________________________________________________________\n",
      "batch_normalization_6 (Batch (None, 7, 7, 25)          100       \n",
      "_________________________________________________________________\n",
      "max_pooling2d_5 (MaxPooling2 (None, 4, 4, 25)          0         \n",
      "_________________________________________________________________\n",
      "flatten_1 (Flatten)          (None, 400)               0         \n",
      "_________________________________________________________________\n",
      "dense_1 (Dense)              (None, 512)               205312    \n",
      "_________________________________________________________________\n",
      "dropout_3 (Dropout)          (None, 512)               0         \n",
      "_________________________________________________________________\n",
      "dense_2 (Dense)              (None, 24)                12312     \n",
      "=================================================================\n",
      "Total params: 264,049\n",
      "Trainable params: 263,749\n",
      "Non-trainable params: 300\n",
      "_________________________________________________________________\n"
     ]
    }
   ],
   "source": [
    "#Getting Model summary and seeing parameter count\n",
    "model.summary()"
   ]
  },
  {
   "cell_type": "code",
   "execution_count": 20,
   "id": "smart-greenhouse",
   "metadata": {},
   "outputs": [],
   "source": [
    "##Compile Model using Categorical Crossentropy loss function and using accuracy as a metric##\n",
    "model.compile(loss=\"categorical_crossentropy\", metrics=[\"accuracy\"])"
   ]
  },
  {
   "cell_type": "code",
   "execution_count": 22,
   "id": "social-occasions",
   "metadata": {},
   "outputs": [
    {
     "name": "stdout",
     "output_type": "stream",
     "text": [
      "Epoch 1/20\n",
      "858/858 [==============================] - 42s 48ms/step - loss: 0.8257 - accuracy: 0.7594 - val_loss: 0.4743 - val_accuracy: 0.8516\n",
      "Epoch 2/20\n",
      "858/858 [==============================] - 44s 51ms/step - loss: 0.0223 - accuracy: 0.9926 - val_loss: 0.3865 - val_accuracy: 0.9090\n",
      "Epoch 3/20\n",
      "858/858 [==============================] - 43s 50ms/step - loss: 0.0093 - accuracy: 0.9966 - val_loss: 0.3437 - val_accuracy: 0.9191\n",
      "Epoch 4/20\n",
      "858/858 [==============================] - 43s 50ms/step - loss: 0.0075 - accuracy: 0.9976 - val_loss: 0.2232 - val_accuracy: 0.9504\n",
      "Epoch 5/20\n",
      "858/858 [==============================] - 43s 50ms/step - loss: 0.0035 - accuracy: 0.9986 - val_loss: 0.2826 - val_accuracy: 0.9452\n",
      "Epoch 6/20\n",
      "858/858 [==============================] - 44s 51ms/step - loss: 0.0044 - accuracy: 0.9989 - val_loss: 0.2079 - val_accuracy: 0.9594\n",
      "Epoch 7/20\n",
      "858/858 [==============================] - 45s 53ms/step - loss: 0.0018 - accuracy: 0.9993 - val_loss: 0.2155 - val_accuracy: 0.9596\n",
      "Epoch 8/20\n",
      "858/858 [==============================] - 46s 53ms/step - loss: 0.0016 - accuracy: 0.9995 - val_loss: 0.4345 - val_accuracy: 0.9318\n",
      "Epoch 9/20\n",
      "858/858 [==============================] - 44s 51ms/step - loss: 0.0024 - accuracy: 0.9992 - val_loss: 0.3338 - val_accuracy: 0.9481\n",
      "Epoch 10/20\n",
      "858/858 [==============================] - 44s 52ms/step - loss: 0.0017 - accuracy: 0.9996 - val_loss: 0.2646 - val_accuracy: 0.9629\n",
      "Epoch 11/20\n",
      "858/858 [==============================] - 45s 52ms/step - loss: 0.0032 - accuracy: 0.9994 - val_loss: 0.4507 - val_accuracy: 0.9476\n",
      "Epoch 12/20\n",
      "858/858 [==============================] - 43s 50ms/step - loss: 0.0033 - accuracy: 0.9992 - val_loss: 0.3884 - val_accuracy: 0.9420\n",
      "Epoch 13/20\n",
      "858/858 [==============================] - 43s 50ms/step - loss: 0.0035 - accuracy: 0.9992 - val_loss: 0.2714 - val_accuracy: 0.9565\n",
      "Epoch 14/20\n",
      "858/858 [==============================] - 42s 49ms/step - loss: 9.6998e-04 - accuracy: 0.9998 - val_loss: 0.3916 - val_accuracy: 0.9642\n",
      "Epoch 15/20\n",
      "858/858 [==============================] - 42s 49ms/step - loss: 0.0022 - accuracy: 0.9996 - val_loss: 0.4418 - val_accuracy: 0.9391\n",
      "Epoch 16/20\n",
      "858/858 [==============================] - 42s 49ms/step - loss: 0.0023 - accuracy: 0.9991 - val_loss: 0.4370 - val_accuracy: 0.9499\n",
      "Epoch 17/20\n",
      "858/858 [==============================] - 43s 50ms/step - loss: 8.3723e-04 - accuracy: 0.9997 - val_loss: 0.3924 - val_accuracy: 0.9596\n",
      "Epoch 18/20\n",
      "858/858 [==============================] - 42s 49ms/step - loss: 0.0011 - accuracy: 0.9998 - val_loss: 0.6158 - val_accuracy: 0.9654\n",
      "Epoch 19/20\n",
      "858/858 [==============================] - 42s 49ms/step - loss: 0.0026 - accuracy: 0.9998 - val_loss: 0.5908 - val_accuracy: 0.9571\n",
      "Epoch 20/20\n",
      "858/858 [==============================] - 42s 49ms/step - loss: 3.5687e-04 - accuracy: 0.9999 - val_loss: 0.4822 - val_accuracy: 0.9557\n"
     ]
    },
    {
     "data": {
      "text/plain": [
       "<tensorflow.python.keras.callbacks.History at 0x223c88347f0>"
      ]
     },
     "execution_count": 22,
     "metadata": {},
     "output_type": "execute_result"
    }
   ],
   "source": [
    "##Train Model##\n",
    "model.fit(x_train, y_train, epochs=20, verbose = 1, validation_data=(x_valid, y_valid))"
   ]
  },
  {
   "cell_type": "code",
   "execution_count": 28,
   "id": "circular-trace",
   "metadata": {},
   "outputs": [
    {
     "name": "stdout",
     "output_type": "stream",
     "text": [
      "INFO:tensorflow:Assets written to: test.model\\assets\n"
     ]
    }
   ],
   "source": [
    "#Visualization of predictions\n",
    "import tensorflow as tf\n",
    "import matplotlib.pyplot as plt #Visualize sample\n",
    "import numpy as np #ARGMAX : Argmax is most commonly used in machine learning for finding the class with the largest predicted probability\n",
    "\n",
    "model.save('test.model')\n",
    "new_model = tf.keras.models.load_model('test.model')\n",
    "predictions = new_model.predict([x_valid])\n"
   ]
  },
  {
   "cell_type": "code",
   "execution_count": 40,
   "id": "prime-grammar",
   "metadata": {},
   "outputs": [],
   "source": [
    "#Create Dictionary to Map Category to Letter\n",
    "numtoletter = {\n",
    "  0: \"A\",\n",
    "  1: \"B\",\n",
    "  2: \"C\",\n",
    "  3: \"D\",\n",
    "  4: \"E\",\n",
    "  5: \"F\",\n",
    "  6: \"G\",\n",
    "  7: \"H\",\n",
    "  8: \"I\",\n",
    "  9: \"K\",\n",
    "  10: \"L\",\n",
    "  11: \"M\",\n",
    "  12: \"N\",\n",
    "  13: \"O\",\n",
    "  14: \"P\",\n",
    "  15: \"Q\",\n",
    "  16: \"R\",\n",
    "  17: \"S\",\n",
    "  18: \"T\",\n",
    "  19: \"U\",\n",
    "  20: \"V\",\n",
    "  21: \"W\",\n",
    "  22: \"X\",\n",
    "  23: \"Y\",  \n",
    "}"
   ]
  },
  {
   "cell_type": "code",
   "execution_count": 48,
   "id": "convertible-impression",
   "metadata": {
    "scrolled": true
   },
   "outputs": [
    {
     "name": "stdout",
     "output_type": "stream",
     "text": [
      "this sign represents a letter O\n"
     ]
    },
    {
     "data": {
      "image/png": "[encoded data removed]",
      "text/plain": [
       "<Figure size 432x288 with 1 Axes>"
      ]
     },
     "metadata": {
      "needs_background": "light"
     },
     "output_type": "display_data"
    }
   ],
   "source": [
    "#to visualize training results place a number for p within the range 0 - 7000\n",
    "p = 7\n",
    "print(\"this sign represents a letter\", numtoletter[np.argmax(predictions[p])] )\n",
    "plt.imshow(x_valid[p])\n",
    "plt.show()"
   ]
  },
  {
   "cell_type": "code",
   "execution_count": null,
   "id": "surface-jimmy",
   "metadata": {},
   "outputs": [],
   "source": []
  }
 ],
 "metadata": {
  "kernelspec": {
   "display_name": "Python 3",
   "language": "python",
   "name": "python3"
  },
  "language_info": {
   "codemirror_mode": {
    "name": "ipython",
    "version": 3
   },
   "file_extension": ".py",
   "mimetype": "text/x-python",
   "name": "python",
   "nbconvert_exporter": "python",
   "pygments_lexer": "ipython3",
   "version": "3.8.6"
  }
 },
 "nbformat": 4,
 "nbformat_minor": 5
}
